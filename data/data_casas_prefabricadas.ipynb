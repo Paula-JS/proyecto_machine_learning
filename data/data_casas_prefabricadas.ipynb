{
 "cells": [
  {
   "cell_type": "markdown",
   "metadata": {},
   "source": [
    "# OBTENCIÓN DE LOS DATOS\n",
    "\n",
    "Para la obtención de los datos utilizaremos la técnica de webscraping en sitios web especializados de buscadores de viviendas prefabricadas como: \n",
    "- [Facilhouse](https://facilhouse.com/)\n",
    "- [Housez](https://housez.es/)"
   ]
  },
  {
   "cell_type": "markdown",
   "metadata": {},
   "source": [
    "## Obtención de datos de la página web: [Facilhouse](https://facilhouse.com/)"
   ]
  },
  {
   "cell_type": "code",
   "execution_count": 61,
   "metadata": {},
   "outputs": [
    {
     "name": "stdout",
     "output_type": "stream",
     "text": [
      "Página descargada correctamente\n",
      "Página descargada correctamente\n",
      "Página descargada correctamente\n",
      "Página descargada correctamente\n",
      "Página descargada correctamente\n",
      "Página descargada correctamente\n",
      "Página descargada correctamente\n",
      "Página descargada correctamente\n",
      "Página descargada correctamente\n",
      "Página descargada correctamente\n",
      "Página descargada correctamente\n",
      "Página descargada correctamente\n",
      "Página descargada correctamente\n",
      "Página descargada correctamente\n",
      "Página descargada correctamente\n",
      "Página descargada correctamente\n",
      "Página descargada correctamente\n",
      "Página descargada correctamente\n",
      "Página descargada correctamente\n",
      "Página descargada correctamente\n",
      "Página descargada correctamente\n",
      "Página descargada correctamente\n",
      "Página descargada correctamente\n",
      "Página descargada correctamente\n",
      "Página descargada correctamente\n",
      "Página descargada correctamente\n",
      "Página descargada correctamente\n",
      "Página descargada correctamente\n",
      "Página descargada correctamente\n",
      "Página descargada correctamente\n",
      "Página descargada correctamente\n",
      "Página descargada correctamente\n",
      "Página descargada correctamente\n",
      "Página descargada correctamente\n",
      "Página descargada correctamente\n",
      "Página descargada correctamente\n",
      "Página descargada correctamente\n",
      "Página descargada correctamente\n",
      "Página descargada correctamente\n",
      "Página descargada correctamente\n",
      "Página descargada correctamente\n",
      "Página descargada correctamente\n",
      "Página descargada correctamente\n",
      "Página descargada correctamente\n",
      "Página descargada correctamente\n",
      "Página descargada correctamente\n",
      "Página descargada correctamente\n",
      "Página descargada correctamente\n",
      "Página descargada correctamente\n",
      "Página descargada correctamente\n",
      "Página descargada correctamente\n",
      "Página descargada correctamente\n",
      "Página descargada correctamente\n",
      "Página descargada correctamente\n",
      "Página descargada correctamente\n",
      "Página descargada correctamente\n",
      "Página descargada correctamente\n",
      "Página descargada correctamente\n",
      "Página descargada correctamente\n",
      "Página descargada correctamente\n",
      "Página descargada correctamente\n",
      "Página descargada correctamente\n",
      "Página descargada correctamente\n",
      "Página descargada correctamente\n",
      "Página descargada correctamente\n",
      "Página descargada correctamente\n"
     ]
    }
   ],
   "source": [
    "#Importamos las librerías necesarias\n",
    "import pandas as pd\n",
    "import numpy as np\n",
    "import requests\n",
    "from bs4 import BeautifulSoup\n",
    "\n",
    "# Definimos los encabezados HTTP (headers) que simulan una solicitud proveniente de un navegador real.\n",
    "headers = {\n",
    "    'User-Agent': 'Mozilla/5.0 (Windows NT 10.0; Win64; x64) AppleWebKit/537.36 (KHTML, like Gecko) Chrome/58.0.3029.110 Safari/537.3'\n",
    "}\n",
    "\n",
    "# Iteramos desde la página 2 hasta la página 66. Accediendo desde la URL del buscador FACIL HOUSE. Realizamos una solicitud GET para descargar el contenido HTML de la página.\n",
    "for pagina in range (1, 67):\n",
    "    url = f\"https://facilhouse.com/page/{pagina}/\"\n",
    "    response = requests.get(url, headers=headers)\n",
    "    \n",
    "    if response.status_code == 200:\n",
    "        #Nos aseguramos que todas las páginas se han descragado correctamente\n",
    "        print (\"Página descargada correctamente\")\n",
    "        \n",
    "        soup = BeautifulSoup(response.content, \"html.parser\")\n",
    "    else:\n",
    "        print (\"Error al descargar la página\")"
   ]
  },
  {
   "cell_type": "code",
   "execution_count": 62,
   "metadata": {},
   "outputs": [
    {
     "data": {
      "text/plain": [
       "[<div class=\"caracteristicas-flex\">\n",
       " <div class=\"titulo-precio\">\n",
       " <div class=\"property-title-flex\">\n",
       " <a href=\"https://facilhouse.com/modelo-casa/lucia/\">Lucia</a>\n",
       " </div>\n",
       " <div class=\"price-flex\" style=\"\">\n",
       " <span class=\"price-start\">Desde</span><span class=\"item-price\">251.340 €</span>\n",
       " </div>\n",
       " </div>\n",
       " <div class=\"amenities-materiales\">\n",
       " <div class=\"amenities-flex\">\n",
       " <p><span class=\"h-beds\"><img alt=\"habitaciones\" data-lazy-src=\"https://facilhouse.com/wp-content/themes/houzez-child/img/icons/cama.svg\" height=\"20\" src=\"data:image/svg+xml,%3Csvg%20xmlns='http://www.w3.org/2000/svg'%20viewBox='0%200%2020%2020'%3E%3C/svg%3E\" width=\"20\"/><noscript><img alt=\"habitaciones\" height=\"20\" loading=\"lazy\" src=\"https://facilhouse.com/wp-content/themes/houzez-child/img/icons/cama.svg\" width=\"20\"/></noscript>: 4</span><span class=\"h-baths\"><img alt=\"Baños\" data-lazy-src=\"https://facilhouse.com/wp-content/themes/houzez-child/img/icons/banyera.svg\" height=\"13\" src=\"data:image/svg+xml,%3Csvg%20xmlns='http://www.w3.org/2000/svg'%20viewBox='0%200%2013%2013'%3E%3C/svg%3E\" width=\"13\"/><noscript><img alt=\"Baños\" height=\"13\" loading=\"lazy\" src=\"https://facilhouse.com/wp-content/themes/houzez-child/img/icons/banyera.svg\" width=\"13\"/></noscript>: 3</span><span class=\"h-area\">177 m²</span></p> </div>\n",
       " <div class=\"materiales-flex\">\n",
       " <p><span>|  </span>\n",
       "                                                                 madera                            </p>\n",
       " </div>\n",
       " </div>\n",
       " <div class=\"empresa-items-flex\">\n",
       " <div class=\"text-empresa-flex\" style=\"font-size:14px;\">\n",
       "                             Empresa:\n",
       "                         </div>\n",
       " <div class=\"empresa-flex prop-user-agent\" style=\"font-weight:bold\">\n",
       " <a href=\"https://facilhouse.com/empresa/lascasasmodulares/\">Las Casas Modulares</a> </div>\n",
       " </div>\n",
       " <div class=\"contactes-empresa-flex\">\n",
       " <div class=\"telefon-flex\">\n",
       " <!-- telèfon en ús  -->\n",
       " <div class=\"num-telefono\" id=\"luciap\" style=\"display:none;\">\n",
       "                                     722 468 065                                </div>\n",
       " <!-- ver tel. -->\n",
       " <form action=\"\" id=\"vertel_form-28950\" method=\"post\" style=\"display:inline;\">\n",
       " <input id=\"vertel_ajax_nonce-28950\" name=\"vertel_ajax_nonce\" type=\"hidden\" value=\"efac632050\">\n",
       " <input name=\"action\" type=\"hidden\" value=\"vertel_agent\">\n",
       " <input name=\"empresa\" type=\"hidden\" value=\"Las Casas Modulares \"/>\n",
       " <input name=\"propiedad\" type=\"hidden\" value=\"Lucia\"/>\n",
       " <input name=\"fechahora\" type=\"hidden\" value=\"2024-12-07 12:22:13\"/>\n",
       " <input name=\"clicbtn\" type=\"hidden\" value=\"1\"/>\n",
       " <button class=\"vertel_agent_btn llamar-mobile\" data-id=\"28950\" id=\"lucia\" title=\"Click para mostrar el teléfono\" type=\"submit\">\n",
       " <img alt=\"teléfono\" class=\"icons-profiles\" data-lazy-src=\"https://facilhouse.com/wp-content/themes/houzez-child/img/icons/telefono_azul.svg\" height=\"16\" src=\"data:image/svg+xml,%3Csvg%20xmlns='http://www.w3.org/2000/svg'%20viewBox='0%200%2016%2016'%3E%3C/svg%3E\" width=\"16\"/><noscript><img alt=\"teléfono\" class=\"icons-profiles\" height=\"16\" loading=\"lazy\" src=\"https://facilhouse.com/wp-content/themes/houzez-child/img/icons/telefono_azul.svg\" width=\"16\"/></noscript>Ver tel.                                        </button>\n",
       " </input></input></form>\n",
       " <!--/ ver tel. -->\n",
       " </div>\n",
       " <div class=\"whatsapp-flex\">\n",
       " <a alt=\"Contactar mediante WhapsApp\" href=\"https://wa.me/722468065?text=Hola,%20me%20interesa%20la%20casa%20«Lucia»\" id=\"a_whatsapp-28950\" style=\"display:none;visibility:hidden;opacity:0\" target=\"_blank\" title=\"Me interesa la casa «Lucia»\">\n",
       " <img alt=\"Whatsapp\" class=\"icons-profiles\" data-lazy-src=\"https://facilhouse.com/wp-content/themes/houzez-child/img/icons/whatsapp.svg\" height=\"16\" src=\"data:image/svg+xml,%3Csvg%20xmlns='http://www.w3.org/2000/svg'%20viewBox='0%200%2016%2016'%3E%3C/svg%3E\" width=\"16\"/><noscript><img alt=\"Whatsapp\" class=\"icons-profiles\" height=\"16\" loading=\"lazy\" src=\"https://facilhouse.com/wp-content/themes/houzez-child/img/icons/whatsapp.svg\" width=\"16\"/></noscript><span>WhatsApp</span>\n",
       " </a>\n",
       " <!-- whatsapp -->\n",
       " <form action=\"\" id=\"whatsapp_form-28950\" method=\"post\" style=\"display:inline;\">\n",
       " <input id=\"whatsapp_ajax_nonce-28950\" name=\"whatsapp_ajax_nonce\" type=\"hidden\" value=\"a0086c02e5\">\n",
       " <input name=\"action\" type=\"hidden\" value=\"whatsapp_agent\">\n",
       " <input name=\"empresa\" type=\"hidden\" value=\"Las Casas Modulares \"/>\n",
       " <input name=\"propiedad\" type=\"hidden\" value=\"Lucia\"/>\n",
       " <input name=\"fechahora\" type=\"hidden\" value=\"2024-12-07 12:22:13\"/>\n",
       " <input name=\"clicbtn\" type=\"hidden\" value=\"1\"/>\n",
       " <button class=\"whatsapp_agent_btn btn-whatsapp-m\" data-id=\"28950\" id=\"whatsapp_agent_btn-28950\" title=\"Me interesa la casa «Lucia»\" type=\"submit\">\n",
       " <img alt=\"Contactar mediante WhapsApp\" class=\"icons-profiles\" data-lazy-src=\"https://facilhouse.com/wp-content/themes/houzez-child/img/icons/whatsapp.svg\" height=\"16\" src=\"data:image/svg+xml,%3Csvg%20xmlns='http://www.w3.org/2000/svg'%20viewBox='0%200%2016%2016'%3E%3C/svg%3E\" width=\"16\"/><noscript><img alt=\"Contactar mediante WhapsApp\" class=\"icons-profiles\" height=\"16\" loading=\"lazy\" src=\"https://facilhouse.com/wp-content/themes/houzez-child/img/icons/whatsapp.svg\" width=\"16\"/></noscript>\n",
       " <span>WhatsApp</span>\n",
       " </button>\n",
       " </input></input></form>\n",
       " <!--/ whatsapp-->\n",
       " </div>\n",
       " <div class=\"contactar-flex\">\n",
       " <button class=\"btn btn-primary boto boto-flex\" data-authorid=\"412\" data-id=\"28950\" data-target=\"#myModalContact-28950\" data-toggle=\"modal\" title=\"Contacta con la empresa\" type=\"button\">\n",
       " <img alt=\"Contactar\" class=\"icons-profiles\" data-lazy-src=\"https://facilhouse.com/wp-content/themes/houzez-child/img/icons/correo_azul.svg\" height=\"16\" src=\"data:image/svg+xml,%3Csvg%20xmlns='http://www.w3.org/2000/svg'%20viewBox='0%200%2016%2016'%3E%3C/svg%3E\" width=\"16\"/><noscript><img alt=\"Contactar\" class=\"icons-profiles\" height=\"16\" loading=\"lazy\" src=\"https://facilhouse.com/wp-content/themes/houzez-child/img/icons/correo_azul.svg\" width=\"16\"/></noscript>Contactar                            </button>\n",
       " </div>\n",
       " </div>\n",
       " </div>,\n",
       " <div class=\"caracteristicas-flex\">\n",
       " <div class=\"titulo-precio\">\n",
       " <div class=\"property-title-flex\">\n",
       " <a href=\"https://facilhouse.com/modelo-casa/oka-box/\">OKA Box</a>\n",
       " </div>\n",
       " <div class=\"price-flex\" style=\"\">\n",
       " <span class=\"price-start\">Desde</span><span class=\"item-price\">26.000 €</span>\n",
       " </div>\n",
       " </div>\n",
       " <div class=\"amenities-materiales\">\n",
       " <div class=\"amenities-flex\">\n",
       " <p><span class=\"h-beds\"><img alt=\"habitaciones\" data-lazy-src=\"https://facilhouse.com/wp-content/themes/houzez-child/img/icons/cama.svg\" height=\"20\" src=\"data:image/svg+xml,%3Csvg%20xmlns='http://www.w3.org/2000/svg'%20viewBox='0%200%2020%2020'%3E%3C/svg%3E\" width=\"20\"/><noscript><img alt=\"habitaciones\" height=\"20\" loading=\"lazy\" src=\"https://facilhouse.com/wp-content/themes/houzez-child/img/icons/cama.svg\" width=\"20\"/></noscript>: 1</span><span class=\"h-baths\"><img alt=\"Baños\" data-lazy-src=\"https://facilhouse.com/wp-content/themes/houzez-child/img/icons/banyera.svg\" height=\"13\" src=\"data:image/svg+xml,%3Csvg%20xmlns='http://www.w3.org/2000/svg'%20viewBox='0%200%2013%2013'%3E%3C/svg%3E\" width=\"13\"/><noscript><img alt=\"Baños\" height=\"13\" loading=\"lazy\" src=\"https://facilhouse.com/wp-content/themes/houzez-child/img/icons/banyera.svg\" width=\"13\"/></noscript>: 1</span><span class=\"h-area\">26 m²</span></p> </div>\n",
       " <div class=\"materiales-flex\">\n",
       " <p><span>|  </span>\n",
       "                                                                 madera                            </p>\n",
       " </div>\n",
       " </div>\n",
       " <div class=\"empresa-items-flex\">\n",
       " <div class=\"text-empresa-flex\" style=\"font-size:14px;\">\n",
       "                             Empresa:\n",
       "                         </div>\n",
       " <div class=\"empresa-flex prop-user-agent\" style=\"font-weight:bold\">\n",
       " <a href=\"https://facilhouse.com/empresa/oka/\">OKA Room</a> </div>\n",
       " </div>\n",
       " <div class=\"contactes-empresa-flex\">\n",
       " <div class=\"telefon-flex\">\n",
       " <!-- telèfon en ús  -->\n",
       " <div class=\"num-telefono\" id=\"okaboxp\" style=\"display:none;\">\n",
       "                                     +34613098537                                </div>\n",
       " <!-- ver tel. -->\n",
       " <form action=\"\" id=\"vertel_form-30913\" method=\"post\" style=\"display:inline;\">\n",
       " <input id=\"vertel_ajax_nonce-30913\" name=\"vertel_ajax_nonce\" type=\"hidden\" value=\"efac632050\">\n",
       " <input name=\"action\" type=\"hidden\" value=\"vertel_agent\">\n",
       " <input name=\"empresa\" type=\"hidden\" value=\"OKA Room \"/>\n",
       " <input name=\"propiedad\" type=\"hidden\" value=\"OKA Box\"/>\n",
       " <input name=\"fechahora\" type=\"hidden\" value=\"2024-12-07 12:22:13\"/>\n",
       " <input name=\"clicbtn\" type=\"hidden\" value=\"1\"/>\n",
       " <button class=\"vertel_agent_btn llamar-mobile\" data-id=\"30913\" id=\"okabox\" title=\"Click para mostrar el teléfono\" type=\"submit\">\n",
       " <img alt=\"teléfono\" class=\"icons-profiles\" data-lazy-src=\"https://facilhouse.com/wp-content/themes/houzez-child/img/icons/telefono_azul.svg\" height=\"16\" src=\"data:image/svg+xml,%3Csvg%20xmlns='http://www.w3.org/2000/svg'%20viewBox='0%200%2016%2016'%3E%3C/svg%3E\" width=\"16\"/><noscript><img alt=\"teléfono\" class=\"icons-profiles\" height=\"16\" loading=\"lazy\" src=\"https://facilhouse.com/wp-content/themes/houzez-child/img/icons/telefono_azul.svg\" width=\"16\"/></noscript>Ver tel.                                        </button>\n",
       " </input></input></form>\n",
       " <!--/ ver tel. -->\n",
       " </div>\n",
       " <div class=\"whatsapp-flex\">\n",
       " <a alt=\"Contactar mediante WhapsApp\" href=\"https://wa.me/37253508656?text=Hola,%20me%20interesa%20la%20casa%20«OKA Box»\" id=\"a_whatsapp-30913\" style=\"display:none;visibility:hidden;opacity:0\" target=\"_blank\" title=\"Me interesa la casa «OKA Box»\">\n",
       " <img alt=\"Whatsapp\" class=\"icons-profiles\" data-lazy-src=\"https://facilhouse.com/wp-content/themes/houzez-child/img/icons/whatsapp.svg\" height=\"16\" src=\"data:image/svg+xml,%3Csvg%20xmlns='http://www.w3.org/2000/svg'%20viewBox='0%200%2016%2016'%3E%3C/svg%3E\" width=\"16\"/><noscript><img alt=\"Whatsapp\" class=\"icons-profiles\" height=\"16\" loading=\"lazy\" src=\"https://facilhouse.com/wp-content/themes/houzez-child/img/icons/whatsapp.svg\" width=\"16\"/></noscript><span>WhatsApp</span>\n",
       " </a>\n",
       " <!-- whatsapp -->\n",
       " <form action=\"\" id=\"whatsapp_form-30913\" method=\"post\" style=\"display:inline;\">\n",
       " <input id=\"whatsapp_ajax_nonce-30913\" name=\"whatsapp_ajax_nonce\" type=\"hidden\" value=\"a0086c02e5\">\n",
       " <input name=\"action\" type=\"hidden\" value=\"whatsapp_agent\">\n",
       " <input name=\"empresa\" type=\"hidden\" value=\"OKA Room \"/>\n",
       " <input name=\"propiedad\" type=\"hidden\" value=\"OKA Box\"/>\n",
       " <input name=\"fechahora\" type=\"hidden\" value=\"2024-12-07 12:22:13\"/>\n",
       " <input name=\"clicbtn\" type=\"hidden\" value=\"1\"/>\n",
       " <button class=\"whatsapp_agent_btn btn-whatsapp-m\" data-id=\"30913\" id=\"whatsapp_agent_btn-30913\" title=\"Me interesa la casa «OKA Box»\" type=\"submit\">\n",
       " <img alt=\"Contactar mediante WhapsApp\" class=\"icons-profiles\" data-lazy-src=\"https://facilhouse.com/wp-content/themes/houzez-child/img/icons/whatsapp.svg\" height=\"16\" src=\"data:image/svg+xml,%3Csvg%20xmlns='http://www.w3.org/2000/svg'%20viewBox='0%200%2016%2016'%3E%3C/svg%3E\" width=\"16\"/><noscript><img alt=\"Contactar mediante WhapsApp\" class=\"icons-profiles\" height=\"16\" loading=\"lazy\" src=\"https://facilhouse.com/wp-content/themes/houzez-child/img/icons/whatsapp.svg\" width=\"16\"/></noscript>\n",
       " <span>WhatsApp</span>\n",
       " </button>\n",
       " </input></input></form>\n",
       " <!--/ whatsapp-->\n",
       " </div>\n",
       " <div class=\"contactar-flex\">\n",
       " <button class=\"btn btn-primary boto boto-flex\" data-authorid=\"1253\" data-id=\"30913\" data-target=\"#myModalContact-30913\" data-toggle=\"modal\" title=\"Contacta con la empresa\" type=\"button\">\n",
       " <img alt=\"Contactar\" class=\"icons-profiles\" data-lazy-src=\"https://facilhouse.com/wp-content/themes/houzez-child/img/icons/correo_azul.svg\" height=\"16\" src=\"data:image/svg+xml,%3Csvg%20xmlns='http://www.w3.org/2000/svg'%20viewBox='0%200%2016%2016'%3E%3C/svg%3E\" width=\"16\"/><noscript><img alt=\"Contactar\" class=\"icons-profiles\" height=\"16\" loading=\"lazy\" src=\"https://facilhouse.com/wp-content/themes/houzez-child/img/icons/correo_azul.svg\" width=\"16\"/></noscript>Contactar                            </button>\n",
       " </div>\n",
       " </div>\n",
       " </div>,\n",
       " <div class=\"caracteristicas-flex\">\n",
       " <div class=\"titulo-precio\">\n",
       " <div class=\"property-title-flex\">\n",
       " <a href=\"https://facilhouse.com/modelo-casa/france/\">France</a>\n",
       " </div>\n",
       " <div class=\"price-flex\" style=\"\">\n",
       " <span class=\"item-price\">Consultar</span>\n",
       " </div>\n",
       " </div>\n",
       " <div class=\"amenities-materiales\">\n",
       " <div class=\"amenities-flex\">\n",
       " <p><span class=\"h-beds\"><img alt=\"habitaciones\" data-lazy-src=\"https://facilhouse.com/wp-content/themes/houzez-child/img/icons/cama.svg\" height=\"20\" src=\"data:image/svg+xml,%3Csvg%20xmlns='http://www.w3.org/2000/svg'%20viewBox='0%200%2020%2020'%3E%3C/svg%3E\" width=\"20\"/><noscript><img alt=\"habitaciones\" height=\"20\" loading=\"lazy\" src=\"https://facilhouse.com/wp-content/themes/houzez-child/img/icons/cama.svg\" width=\"20\"/></noscript>: 3</span><span class=\"h-baths\"><img alt=\"Baños\" data-lazy-src=\"https://facilhouse.com/wp-content/themes/houzez-child/img/icons/banyera.svg\" height=\"13\" src=\"data:image/svg+xml,%3Csvg%20xmlns='http://www.w3.org/2000/svg'%20viewBox='0%200%2013%2013'%3E%3C/svg%3E\" width=\"13\"/><noscript><img alt=\"Baños\" height=\"13\" loading=\"lazy\" src=\"https://facilhouse.com/wp-content/themes/houzez-child/img/icons/banyera.svg\" width=\"13\"/></noscript>: 2</span><span class=\"h-area\">111 m²</span></p> </div>\n",
       " <div class=\"materiales-flex\">\n",
       " <p><span>|  </span>\n",
       "                                                                 madera                            </p>\n",
       " </div>\n",
       " </div>\n",
       " <div class=\"empresa-items-flex\">\n",
       " <div class=\"text-empresa-flex\" style=\"font-size:14px;\">\n",
       "                             Empresa:\n",
       "                         </div>\n",
       " <div class=\"empresa-flex prop-user-agent\" style=\"font-weight:bold\">\n",
       " <a href=\"https://facilhouse.com/empresa/steco/\">TUCASAECO SOSTENIBLE</a> </div>\n",
       " </div>\n",
       " <div class=\"contactes-empresa-flex\">\n",
       " <div class=\"telefon-flex\">\n",
       " <!-- telèfon en ús  -->\n",
       " <div class=\"num-telefono\" id=\"francep\" style=\"display:none;\">\n",
       "                                     644 913 678                                </div>\n",
       " <!-- ver tel. -->\n",
       " <form action=\"\" id=\"vertel_form-24154\" method=\"post\" style=\"display:inline;\">\n",
       " <input id=\"vertel_ajax_nonce-24154\" name=\"vertel_ajax_nonce\" type=\"hidden\" value=\"efac632050\">\n",
       " <input name=\"action\" type=\"hidden\" value=\"vertel_agent\">\n",
       " <input name=\"empresa\" type=\"hidden\" value=\"TUCASAECO SOSTENIBLE \"/>\n",
       " <input name=\"propiedad\" type=\"hidden\" value=\"France\"/>\n",
       " <input name=\"fechahora\" type=\"hidden\" value=\"2024-12-07 12:22:13\"/>\n",
       " <input name=\"clicbtn\" type=\"hidden\" value=\"1\"/>\n",
       " <button class=\"vertel_agent_btn llamar-mobile\" data-id=\"24154\" id=\"france\" title=\"Click para mostrar el teléfono\" type=\"submit\">\n",
       " <img alt=\"teléfono\" class=\"icons-profiles\" data-lazy-src=\"https://facilhouse.com/wp-content/themes/houzez-child/img/icons/telefono_azul.svg\" height=\"16\" src=\"data:image/svg+xml,%3Csvg%20xmlns='http://www.w3.org/2000/svg'%20viewBox='0%200%2016%2016'%3E%3C/svg%3E\" width=\"16\"/><noscript><img alt=\"teléfono\" class=\"icons-profiles\" height=\"16\" loading=\"lazy\" src=\"https://facilhouse.com/wp-content/themes/houzez-child/img/icons/telefono_azul.svg\" width=\"16\"/></noscript>Ver tel.                                        </button>\n",
       " </input></input></form>\n",
       " <!--/ ver tel. -->\n",
       " </div>\n",
       " <div class=\"whatsapp-flex\">\n",
       " <a alt=\"Contactar mediante WhapsApp\" href=\"https://wa.me/644913678?text=Hola,%20me%20interesa%20la%20casa%20«France»\" id=\"a_whatsapp-24154\" style=\"display:none;visibility:hidden;opacity:0\" target=\"_blank\" title=\"Me interesa la casa «France»\">\n",
       " <img alt=\"Whatsapp\" class=\"icons-profiles\" data-lazy-src=\"https://facilhouse.com/wp-content/themes/houzez-child/img/icons/whatsapp.svg\" height=\"16\" src=\"data:image/svg+xml,%3Csvg%20xmlns='http://www.w3.org/2000/svg'%20viewBox='0%200%2016%2016'%3E%3C/svg%3E\" width=\"16\"/><noscript><img alt=\"Whatsapp\" class=\"icons-profiles\" height=\"16\" loading=\"lazy\" src=\"https://facilhouse.com/wp-content/themes/houzez-child/img/icons/whatsapp.svg\" width=\"16\"/></noscript><span>WhatsApp</span>\n",
       " </a>\n",
       " <!-- whatsapp -->\n",
       " <form action=\"\" id=\"whatsapp_form-24154\" method=\"post\" style=\"display:inline;\">\n",
       " <input id=\"whatsapp_ajax_nonce-24154\" name=\"whatsapp_ajax_nonce\" type=\"hidden\" value=\"a0086c02e5\">\n",
       " <input name=\"action\" type=\"hidden\" value=\"whatsapp_agent\">\n",
       " <input name=\"empresa\" type=\"hidden\" value=\"TUCASAECO SOSTENIBLE \"/>\n",
       " <input name=\"propiedad\" type=\"hidden\" value=\"France\"/>\n",
       " <input name=\"fechahora\" type=\"hidden\" value=\"2024-12-07 12:22:13\"/>\n",
       " <input name=\"clicbtn\" type=\"hidden\" value=\"1\"/>\n",
       " <button class=\"whatsapp_agent_btn btn-whatsapp-m\" data-id=\"24154\" id=\"whatsapp_agent_btn-24154\" title=\"Me interesa la casa «France»\" type=\"submit\">\n",
       " <img alt=\"Contactar mediante WhapsApp\" class=\"icons-profiles\" data-lazy-src=\"https://facilhouse.com/wp-content/themes/houzez-child/img/icons/whatsapp.svg\" height=\"16\" src=\"data:image/svg+xml,%3Csvg%20xmlns='http://www.w3.org/2000/svg'%20viewBox='0%200%2016%2016'%3E%3C/svg%3E\" width=\"16\"/><noscript><img alt=\"Contactar mediante WhapsApp\" class=\"icons-profiles\" height=\"16\" loading=\"lazy\" src=\"https://facilhouse.com/wp-content/themes/houzez-child/img/icons/whatsapp.svg\" width=\"16\"/></noscript>\n",
       " <span>WhatsApp</span>\n",
       " </button>\n",
       " </input></input></form>\n",
       " <!--/ whatsapp-->\n",
       " </div>\n",
       " <div class=\"contactar-flex\">\n",
       " <button class=\"btn btn-primary boto boto-flex\" data-authorid=\"87\" data-id=\"24154\" data-target=\"#myModalContact-24154\" data-toggle=\"modal\" title=\"Contacta con la empresa\" type=\"button\">\n",
       " <img alt=\"Contactar\" class=\"icons-profiles\" data-lazy-src=\"https://facilhouse.com/wp-content/themes/houzez-child/img/icons/correo_azul.svg\" height=\"16\" src=\"data:image/svg+xml,%3Csvg%20xmlns='http://www.w3.org/2000/svg'%20viewBox='0%200%2016%2016'%3E%3C/svg%3E\" width=\"16\"/><noscript><img alt=\"Contactar\" class=\"icons-profiles\" height=\"16\" loading=\"lazy\" src=\"https://facilhouse.com/wp-content/themes/houzez-child/img/icons/correo_azul.svg\" width=\"16\"/></noscript>Contactar                            </button>\n",
       " </div>\n",
       " </div>\n",
       " </div>,\n",
       " <div class=\"caracteristicas-flex\">\n",
       " <div class=\"titulo-precio\">\n",
       " <div class=\"property-title-flex\">\n",
       " <a href=\"https://facilhouse.com/modelo-casa/modelo-1p-t2-r01/\">Modelo 1P T2 R01</a>\n",
       " </div>\n",
       " <div class=\"price-flex\" style=\"\">\n",
       " <span class=\"item-price\">Consultar</span>\n",
       " </div>\n",
       " </div>\n",
       " <div class=\"amenities-materiales\">\n",
       " <div class=\"amenities-flex\">\n",
       " <p><span class=\"h-beds\"><img alt=\"habitaciones\" data-lazy-src=\"https://facilhouse.com/wp-content/themes/houzez-child/img/icons/cama.svg\" height=\"20\" src=\"data:image/svg+xml,%3Csvg%20xmlns='http://www.w3.org/2000/svg'%20viewBox='0%200%2020%2020'%3E%3C/svg%3E\" width=\"20\"/><noscript><img alt=\"habitaciones\" height=\"20\" loading=\"lazy\" src=\"https://facilhouse.com/wp-content/themes/houzez-child/img/icons/cama.svg\" width=\"20\"/></noscript>: 2</span><span class=\"h-baths\"><img alt=\"Baños\" data-lazy-src=\"https://facilhouse.com/wp-content/themes/houzez-child/img/icons/banyera.svg\" height=\"13\" src=\"data:image/svg+xml,%3Csvg%20xmlns='http://www.w3.org/2000/svg'%20viewBox='0%200%2013%2013'%3E%3C/svg%3E\" width=\"13\"/><noscript><img alt=\"Baños\" height=\"13\" loading=\"lazy\" src=\"https://facilhouse.com/wp-content/themes/houzez-child/img/icons/banyera.svg\" width=\"13\"/></noscript>: 2</span><span class=\"h-area\">134 m²</span></p> </div>\n",
       " <div class=\"materiales-flex\">\n",
       " <p><span>|  </span>\n",
       "                                                                 acero                            </p>\n",
       " </div>\n",
       " </div>\n",
       " <div class=\"empresa-items-flex\">\n",
       " <div class=\"text-empresa-flex\" style=\"font-size:14px;\">\n",
       "                             Empresa:\n",
       "                         </div>\n",
       " <div class=\"empresa-flex prop-user-agent\" style=\"font-weight:bold\">\n",
       " <a href=\"https://facilhouse.com/empresa/modiko/\">Modiko</a> </div>\n",
       " </div>\n",
       " <div class=\"contactes-empresa-flex\">\n",
       " <div class=\"telefon-flex\">\n",
       " <!-- telèfon en ús  -->\n",
       " <div class=\"num-telefono\" id=\"modelo1pt2r01p\" style=\"display:none;\">\n",
       "                                     667 960 338                                </div>\n",
       " <!-- ver tel. -->\n",
       " <form action=\"\" id=\"vertel_form-23914\" method=\"post\" style=\"display:inline;\">\n",
       " <input id=\"vertel_ajax_nonce-23914\" name=\"vertel_ajax_nonce\" type=\"hidden\" value=\"efac632050\">\n",
       " <input name=\"action\" type=\"hidden\" value=\"vertel_agent\">\n",
       " <input name=\"empresa\" type=\"hidden\" value=\"Modiko \"/>\n",
       " <input name=\"propiedad\" type=\"hidden\" value=\"Modelo 1P T2 R01\"/>\n",
       " <input name=\"fechahora\" type=\"hidden\" value=\"2024-12-07 12:22:13\"/>\n",
       " <input name=\"clicbtn\" type=\"hidden\" value=\"1\"/>\n",
       " <button class=\"vertel_agent_btn llamar-mobile\" data-id=\"23914\" id=\"modelo1pt2r01\" title=\"Click para mostrar el teléfono\" type=\"submit\">\n",
       " <img alt=\"teléfono\" class=\"icons-profiles\" data-lazy-src=\"https://facilhouse.com/wp-content/themes/houzez-child/img/icons/telefono_azul.svg\" height=\"16\" src=\"data:image/svg+xml,%3Csvg%20xmlns='http://www.w3.org/2000/svg'%20viewBox='0%200%2016%2016'%3E%3C/svg%3E\" width=\"16\"/><noscript><img alt=\"teléfono\" class=\"icons-profiles\" height=\"16\" loading=\"lazy\" src=\"https://facilhouse.com/wp-content/themes/houzez-child/img/icons/telefono_azul.svg\" width=\"16\"/></noscript>Ver tel.                                        </button>\n",
       " </input></input></form>\n",
       " <!--/ ver tel. -->\n",
       " </div>\n",
       " <div class=\"whatsapp-flex\">\n",
       " <a alt=\"Contactar mediante WhapsApp\" href=\"https://wa.me/667960338?text=Hola,%20me%20interesa%20la%20casa%20«Modelo 1P T2 R01»\" id=\"a_whatsapp-23914\" style=\"display:none;visibility:hidden;opacity:0\" target=\"_blank\" title=\"Me interesa la casa «Modelo 1P T2 R01»\">\n",
       " <img alt=\"Whatsapp\" class=\"icons-profiles\" data-lazy-src=\"https://facilhouse.com/wp-content/themes/houzez-child/img/icons/whatsapp.svg\" height=\"16\" src=\"data:image/svg+xml,%3Csvg%20xmlns='http://www.w3.org/2000/svg'%20viewBox='0%200%2016%2016'%3E%3C/svg%3E\" width=\"16\"/><noscript><img alt=\"Whatsapp\" class=\"icons-profiles\" height=\"16\" loading=\"lazy\" src=\"https://facilhouse.com/wp-content/themes/houzez-child/img/icons/whatsapp.svg\" width=\"16\"/></noscript><span>WhatsApp</span>\n",
       " </a>\n",
       " <!-- whatsapp -->\n",
       " <form action=\"\" id=\"whatsapp_form-23914\" method=\"post\" style=\"display:inline;\">\n",
       " <input id=\"whatsapp_ajax_nonce-23914\" name=\"whatsapp_ajax_nonce\" type=\"hidden\" value=\"a0086c02e5\">\n",
       " <input name=\"action\" type=\"hidden\" value=\"whatsapp_agent\">\n",
       " <input name=\"empresa\" type=\"hidden\" value=\"Modiko \"/>\n",
       " <input name=\"propiedad\" type=\"hidden\" value=\"Modelo 1P T2 R01\"/>\n",
       " <input name=\"fechahora\" type=\"hidden\" value=\"2024-12-07 12:22:13\"/>\n",
       " <input name=\"clicbtn\" type=\"hidden\" value=\"1\"/>\n",
       " <button class=\"whatsapp_agent_btn btn-whatsapp-m\" data-id=\"23914\" id=\"whatsapp_agent_btn-23914\" title=\"Me interesa la casa «Modelo 1P T2 R01»\" type=\"submit\">\n",
       " <img alt=\"Contactar mediante WhapsApp\" class=\"icons-profiles\" data-lazy-src=\"https://facilhouse.com/wp-content/themes/houzez-child/img/icons/whatsapp.svg\" height=\"16\" src=\"data:image/svg+xml,%3Csvg%20xmlns='http://www.w3.org/2000/svg'%20viewBox='0%200%2016%2016'%3E%3C/svg%3E\" width=\"16\"/><noscript><img alt=\"Contactar mediante WhapsApp\" class=\"icons-profiles\" height=\"16\" loading=\"lazy\" src=\"https://facilhouse.com/wp-content/themes/houzez-child/img/icons/whatsapp.svg\" width=\"16\"/></noscript>\n",
       " <span>WhatsApp</span>\n",
       " </button>\n",
       " </input></input></form>\n",
       " <!--/ whatsapp-->\n",
       " </div>\n",
       " <div class=\"contactar-flex\">\n",
       " <button class=\"btn btn-primary boto boto-flex\" data-authorid=\"83\" data-id=\"23914\" data-target=\"#myModalContact-23914\" data-toggle=\"modal\" title=\"Contacta con la empresa\" type=\"button\">\n",
       " <img alt=\"Contactar\" class=\"icons-profiles\" data-lazy-src=\"https://facilhouse.com/wp-content/themes/houzez-child/img/icons/correo_azul.svg\" height=\"16\" src=\"data:image/svg+xml,%3Csvg%20xmlns='http://www.w3.org/2000/svg'%20viewBox='0%200%2016%2016'%3E%3C/svg%3E\" width=\"16\"/><noscript><img alt=\"Contactar\" class=\"icons-profiles\" height=\"16\" loading=\"lazy\" src=\"https://facilhouse.com/wp-content/themes/houzez-child/img/icons/correo_azul.svg\" width=\"16\"/></noscript>Contactar                            </button>\n",
       " </div>\n",
       " </div>\n",
       " </div>,\n",
       " <div class=\"caracteristicas-flex\">\n",
       " <div class=\"titulo-precio\">\n",
       " <div class=\"property-title-flex\">\n",
       " <a href=\"https://facilhouse.com/modelo-casa/leila-1/\">Leila 1</a>\n",
       " </div>\n",
       " <div class=\"price-flex\" style=\"\">\n",
       " <span class=\"item-price\">23.030 €</span>\n",
       " </div>\n",
       " </div>\n",
       " <div class=\"amenities-materiales\">\n",
       " <div class=\"amenities-flex\">\n",
       " <p><span class=\"h-beds\"><img alt=\"habitaciones\" data-lazy-src=\"https://facilhouse.com/wp-content/themes/houzez-child/img/icons/cama.svg\" height=\"20\" src=\"data:image/svg+xml,%3Csvg%20xmlns='http://www.w3.org/2000/svg'%20viewBox='0%200%2020%2020'%3E%3C/svg%3E\" width=\"20\"/><noscript><img alt=\"habitaciones\" height=\"20\" loading=\"lazy\" src=\"https://facilhouse.com/wp-content/themes/houzez-child/img/icons/cama.svg\" width=\"20\"/></noscript>: 1</span><span class=\"h-baths\"><img alt=\"Baños\" data-lazy-src=\"https://facilhouse.com/wp-content/themes/houzez-child/img/icons/banyera.svg\" height=\"13\" src=\"data:image/svg+xml,%3Csvg%20xmlns='http://www.w3.org/2000/svg'%20viewBox='0%200%2013%2013'%3E%3C/svg%3E\" width=\"13\"/><noscript><img alt=\"Baños\" height=\"13\" loading=\"lazy\" src=\"https://facilhouse.com/wp-content/themes/houzez-child/img/icons/banyera.svg\" width=\"13\"/></noscript>: 1</span><span class=\"h-area\">26 m²</span></p> </div>\n",
       " <div class=\"materiales-flex\">\n",
       " <p><span>|  </span>\n",
       "                                                                 madera                            </p>\n",
       " </div>\n",
       " </div>\n",
       " <div class=\"empresa-items-flex\">\n",
       " <div class=\"text-empresa-flex\" style=\"font-size:14px;\">\n",
       "                             Empresa:\n",
       "                         </div>\n",
       " <div class=\"empresa-flex prop-user-agent\" style=\"font-weight:bold\">\n",
       " <a href=\"https://facilhouse.com/empresa/micasademadera/\">Mi Casa de Madera</a> </div>\n",
       " </div>\n",
       " <div class=\"contactes-empresa-flex\">\n",
       " <div class=\"telefon-flex\">\n",
       " <!-- telèfon en ús  -->\n",
       " <div class=\"num-telefono\" id=\"leila1p\" style=\"display:none;\">\n",
       "                                     625 305 740                                </div>\n",
       " <!-- ver tel. -->\n",
       " <form action=\"\" id=\"vertel_form-17111\" method=\"post\" style=\"display:inline;\">\n",
       " <input id=\"vertel_ajax_nonce-17111\" name=\"vertel_ajax_nonce\" type=\"hidden\" value=\"efac632050\">\n",
       " <input name=\"action\" type=\"hidden\" value=\"vertel_agent\">\n",
       " <input name=\"empresa\" type=\"hidden\" value=\"Mi Casa de Madera \"/>\n",
       " <input name=\"propiedad\" type=\"hidden\" value=\"Leila 1\"/>\n",
       " <input name=\"fechahora\" type=\"hidden\" value=\"2024-12-07 12:22:13\"/>\n",
       " <input name=\"clicbtn\" type=\"hidden\" value=\"1\"/>\n",
       " <button class=\"vertel_agent_btn llamar-mobile\" data-id=\"17111\" id=\"leila1\" title=\"Click para mostrar el teléfono\" type=\"submit\">\n",
       " <img alt=\"teléfono\" class=\"icons-profiles\" data-lazy-src=\"https://facilhouse.com/wp-content/themes/houzez-child/img/icons/telefono_azul.svg\" height=\"16\" src=\"data:image/svg+xml,%3Csvg%20xmlns='http://www.w3.org/2000/svg'%20viewBox='0%200%2016%2016'%3E%3C/svg%3E\" width=\"16\"/><noscript><img alt=\"teléfono\" class=\"icons-profiles\" height=\"16\" loading=\"lazy\" src=\"https://facilhouse.com/wp-content/themes/houzez-child/img/icons/telefono_azul.svg\" width=\"16\"/></noscript>Ver tel.                                        </button>\n",
       " </input></input></form>\n",
       " <!--/ ver tel. -->\n",
       " </div>\n",
       " <div class=\"whatsapp-flex\">\n",
       " <a alt=\"Contactar mediante WhapsApp\" href=\"https://wa.me/625305740?text=Hola,%20me%20interesa%20la%20casa%20«Leila 1»\" id=\"a_whatsapp-17111\" style=\"display:none;visibility:hidden;opacity:0\" target=\"_blank\" title=\"Me interesa la casa «Leila 1»\">\n",
       " <img alt=\"Whatsapp\" class=\"icons-profiles\" data-lazy-src=\"https://facilhouse.com/wp-content/themes/houzez-child/img/icons/whatsapp.svg\" height=\"16\" src=\"data:image/svg+xml,%3Csvg%20xmlns='http://www.w3.org/2000/svg'%20viewBox='0%200%2016%2016'%3E%3C/svg%3E\" width=\"16\"/><noscript><img alt=\"Whatsapp\" class=\"icons-profiles\" height=\"16\" loading=\"lazy\" src=\"https://facilhouse.com/wp-content/themes/houzez-child/img/icons/whatsapp.svg\" width=\"16\"/></noscript><span>WhatsApp</span>\n",
       " </a>\n",
       " <!-- whatsapp -->\n",
       " <form action=\"\" id=\"whatsapp_form-17111\" method=\"post\" style=\"display:inline;\">\n",
       " <input id=\"whatsapp_ajax_nonce-17111\" name=\"whatsapp_ajax_nonce\" type=\"hidden\" value=\"a0086c02e5\">\n",
       " <input name=\"action\" type=\"hidden\" value=\"whatsapp_agent\">\n",
       " <input name=\"empresa\" type=\"hidden\" value=\"Mi Casa de Madera \"/>\n",
       " <input name=\"propiedad\" type=\"hidden\" value=\"Leila 1\"/>\n",
       " <input name=\"fechahora\" type=\"hidden\" value=\"2024-12-07 12:22:13\"/>\n",
       " <input name=\"clicbtn\" type=\"hidden\" value=\"1\"/>\n",
       " <button class=\"whatsapp_agent_btn btn-whatsapp-m\" data-id=\"17111\" id=\"whatsapp_agent_btn-17111\" title=\"Me interesa la casa «Leila 1»\" type=\"submit\">\n",
       " <img alt=\"Contactar mediante WhapsApp\" class=\"icons-profiles\" data-lazy-src=\"https://facilhouse.com/wp-content/themes/houzez-child/img/icons/whatsapp.svg\" height=\"16\" src=\"data:image/svg+xml,%3Csvg%20xmlns='http://www.w3.org/2000/svg'%20viewBox='0%200%2016%2016'%3E%3C/svg%3E\" width=\"16\"/><noscript><img alt=\"Contactar mediante WhapsApp\" class=\"icons-profiles\" height=\"16\" loading=\"lazy\" src=\"https://facilhouse.com/wp-content/themes/houzez-child/img/icons/whatsapp.svg\" width=\"16\"/></noscript>\n",
       " <span>WhatsApp</span>\n",
       " </button>\n",
       " </input></input></form>\n",
       " <!--/ whatsapp-->\n",
       " </div>\n",
       " <div class=\"contactar-flex\">\n",
       " <button class=\"btn btn-primary boto boto-flex\" data-authorid=\"59\" data-id=\"17111\" data-target=\"#myModalContact-17111\" data-toggle=\"modal\" title=\"Contacta con la empresa\" type=\"button\">\n",
       " <img alt=\"Contactar\" class=\"icons-profiles\" data-lazy-src=\"https://facilhouse.com/wp-content/themes/houzez-child/img/icons/correo_azul.svg\" height=\"16\" src=\"data:image/svg+xml,%3Csvg%20xmlns='http://www.w3.org/2000/svg'%20viewBox='0%200%2016%2016'%3E%3C/svg%3E\" width=\"16\"/><noscript><img alt=\"Contactar\" class=\"icons-profiles\" height=\"16\" loading=\"lazy\" src=\"https://facilhouse.com/wp-content/themes/houzez-child/img/icons/correo_azul.svg\" width=\"16\"/></noscript>Contactar                            </button>\n",
       " </div>\n",
       " </div>\n",
       " </div>]"
      ]
     },
     "execution_count": 62,
     "metadata": {},
     "output_type": "execute_result"
    }
   ],
   "source": [
    "soup.select(\"div.caracteristicas-flex\")"
   ]
  },
  {
   "cell_type": "markdown",
   "metadata": {},
   "source": [
    "### Precio"
   ]
  },
  {
   "cell_type": "code",
   "execution_count": 88,
   "metadata": {},
   "outputs": [
    {
     "data": {
      "text/plain": [
       "[<span class=\"item-price\">251.340 €</span>,\n",
       " <span class=\"item-price\">26.000 €</span>,\n",
       " <span class=\"item-price\">Consultar</span>,\n",
       " <span class=\"item-price\">Consultar</span>,\n",
       " <span class=\"item-price\">23.030 €</span>]"
      ]
     },
     "execution_count": 88,
     "metadata": {},
     "output_type": "execute_result"
    }
   ],
   "source": [
    "#Buscamos el precio\n",
    "precios = soup.select(\"span.item-price\")\n",
    "precios"
   ]
  },
  {
   "cell_type": "code",
   "execution_count": 64,
   "metadata": {},
   "outputs": [
    {
     "name": "stdout",
     "output_type": "stream",
     "text": [
      "251.340 €\n",
      "26.000 €\n",
      "Consultar\n",
      "Consultar\n",
      "23.030 €\n"
     ]
    }
   ],
   "source": [
    "for precio in precios:\n",
    "    print(precio.text.strip())"
   ]
  },
  {
   "cell_type": "markdown",
   "metadata": {},
   "source": [
    "### Metros cuadrados"
   ]
  },
  {
   "cell_type": "code",
   "execution_count": 65,
   "metadata": {},
   "outputs": [
    {
     "data": {
      "text/plain": [
       "[<span class=\"h-area\">177 m²</span>,\n",
       " <span class=\"h-area\">26 m²</span>,\n",
       " <span class=\"h-area\">111 m²</span>,\n",
       " <span class=\"h-area\">134 m²</span>,\n",
       " <span class=\"h-area\">26 m²</span>]"
      ]
     },
     "execution_count": 65,
     "metadata": {},
     "output_type": "execute_result"
    }
   ],
   "source": [
    "metros_cuadrados_1 = soup.select(\"span.h-area\")\n",
    "metros_cuadrados_1"
   ]
  },
  {
   "cell_type": "code",
   "execution_count": 66,
   "metadata": {},
   "outputs": [
    {
     "name": "stdout",
     "output_type": "stream",
     "text": [
      "177 m²\n",
      "26 m²\n",
      "111 m²\n",
      "134 m²\n",
      "26 m²\n"
     ]
    }
   ],
   "source": [
    "for metros in metros_cuadrados_1:\n",
    "    print (metros.text.strip())"
   ]
  },
  {
   "cell_type": "markdown",
   "metadata": {},
   "source": [
    "### Número baños"
   ]
  },
  {
   "cell_type": "code",
   "execution_count": 67,
   "metadata": {},
   "outputs": [
    {
     "data": {
      "text/plain": [
       "[<span class=\"h-baths\"><img alt=\"Baños\" data-lazy-src=\"https://facilhouse.com/wp-content/themes/houzez-child/img/icons/banyera.svg\" height=\"13\" src=\"data:image/svg+xml,%3Csvg%20xmlns='http://www.w3.org/2000/svg'%20viewBox='0%200%2013%2013'%3E%3C/svg%3E\" width=\"13\"/><noscript><img alt=\"Baños\" height=\"13\" loading=\"lazy\" src=\"https://facilhouse.com/wp-content/themes/houzez-child/img/icons/banyera.svg\" width=\"13\"/></noscript>: 3</span>,\n",
       " <span class=\"h-baths\"><img alt=\"Baños\" data-lazy-src=\"https://facilhouse.com/wp-content/themes/houzez-child/img/icons/banyera.svg\" height=\"13\" src=\"data:image/svg+xml,%3Csvg%20xmlns='http://www.w3.org/2000/svg'%20viewBox='0%200%2013%2013'%3E%3C/svg%3E\" width=\"13\"/><noscript><img alt=\"Baños\" height=\"13\" loading=\"lazy\" src=\"https://facilhouse.com/wp-content/themes/houzez-child/img/icons/banyera.svg\" width=\"13\"/></noscript>: 1</span>,\n",
       " <span class=\"h-baths\"><img alt=\"Baños\" data-lazy-src=\"https://facilhouse.com/wp-content/themes/houzez-child/img/icons/banyera.svg\" height=\"13\" src=\"data:image/svg+xml,%3Csvg%20xmlns='http://www.w3.org/2000/svg'%20viewBox='0%200%2013%2013'%3E%3C/svg%3E\" width=\"13\"/><noscript><img alt=\"Baños\" height=\"13\" loading=\"lazy\" src=\"https://facilhouse.com/wp-content/themes/houzez-child/img/icons/banyera.svg\" width=\"13\"/></noscript>: 2</span>,\n",
       " <span class=\"h-baths\"><img alt=\"Baños\" data-lazy-src=\"https://facilhouse.com/wp-content/themes/houzez-child/img/icons/banyera.svg\" height=\"13\" src=\"data:image/svg+xml,%3Csvg%20xmlns='http://www.w3.org/2000/svg'%20viewBox='0%200%2013%2013'%3E%3C/svg%3E\" width=\"13\"/><noscript><img alt=\"Baños\" height=\"13\" loading=\"lazy\" src=\"https://facilhouse.com/wp-content/themes/houzez-child/img/icons/banyera.svg\" width=\"13\"/></noscript>: 2</span>,\n",
       " <span class=\"h-baths\"><img alt=\"Baños\" data-lazy-src=\"https://facilhouse.com/wp-content/themes/houzez-child/img/icons/banyera.svg\" height=\"13\" src=\"data:image/svg+xml,%3Csvg%20xmlns='http://www.w3.org/2000/svg'%20viewBox='0%200%2013%2013'%3E%3C/svg%3E\" width=\"13\"/><noscript><img alt=\"Baños\" height=\"13\" loading=\"lazy\" src=\"https://facilhouse.com/wp-content/themes/houzez-child/img/icons/banyera.svg\" width=\"13\"/></noscript>: 1</span>]"
      ]
     },
     "execution_count": 67,
     "metadata": {},
     "output_type": "execute_result"
    }
   ],
   "source": [
    "baños_1 = soup.select(\"span.h-baths\")\n",
    "baños_1"
   ]
  },
  {
   "cell_type": "code",
   "execution_count": 68,
   "metadata": {},
   "outputs": [
    {
     "name": "stdout",
     "output_type": "stream",
     "text": [
      ": 3\n",
      ": 1\n",
      ": 2\n",
      ": 2\n",
      ": 1\n"
     ]
    }
   ],
   "source": [
    "for i in baños_1:\n",
    "    print (i.text.strip())"
   ]
  },
  {
   "cell_type": "markdown",
   "metadata": {},
   "source": [
    "### Número habitaciones"
   ]
  },
  {
   "cell_type": "code",
   "execution_count": 69,
   "metadata": {},
   "outputs": [
    {
     "data": {
      "text/plain": [
       "[<span class=\"h-beds\"><img alt=\"habitaciones\" data-lazy-src=\"https://facilhouse.com/wp-content/themes/houzez-child/img/icons/cama.svg\" height=\"20\" src=\"data:image/svg+xml,%3Csvg%20xmlns='http://www.w3.org/2000/svg'%20viewBox='0%200%2020%2020'%3E%3C/svg%3E\" width=\"20\"/><noscript><img alt=\"habitaciones\" height=\"20\" loading=\"lazy\" src=\"https://facilhouse.com/wp-content/themes/houzez-child/img/icons/cama.svg\" width=\"20\"/></noscript>: 4</span>,\n",
       " <span class=\"h-beds\"><img alt=\"habitaciones\" data-lazy-src=\"https://facilhouse.com/wp-content/themes/houzez-child/img/icons/cama.svg\" height=\"20\" src=\"data:image/svg+xml,%3Csvg%20xmlns='http://www.w3.org/2000/svg'%20viewBox='0%200%2020%2020'%3E%3C/svg%3E\" width=\"20\"/><noscript><img alt=\"habitaciones\" height=\"20\" loading=\"lazy\" src=\"https://facilhouse.com/wp-content/themes/houzez-child/img/icons/cama.svg\" width=\"20\"/></noscript>: 1</span>,\n",
       " <span class=\"h-beds\"><img alt=\"habitaciones\" data-lazy-src=\"https://facilhouse.com/wp-content/themes/houzez-child/img/icons/cama.svg\" height=\"20\" src=\"data:image/svg+xml,%3Csvg%20xmlns='http://www.w3.org/2000/svg'%20viewBox='0%200%2020%2020'%3E%3C/svg%3E\" width=\"20\"/><noscript><img alt=\"habitaciones\" height=\"20\" loading=\"lazy\" src=\"https://facilhouse.com/wp-content/themes/houzez-child/img/icons/cama.svg\" width=\"20\"/></noscript>: 3</span>,\n",
       " <span class=\"h-beds\"><img alt=\"habitaciones\" data-lazy-src=\"https://facilhouse.com/wp-content/themes/houzez-child/img/icons/cama.svg\" height=\"20\" src=\"data:image/svg+xml,%3Csvg%20xmlns='http://www.w3.org/2000/svg'%20viewBox='0%200%2020%2020'%3E%3C/svg%3E\" width=\"20\"/><noscript><img alt=\"habitaciones\" height=\"20\" loading=\"lazy\" src=\"https://facilhouse.com/wp-content/themes/houzez-child/img/icons/cama.svg\" width=\"20\"/></noscript>: 2</span>,\n",
       " <span class=\"h-beds\"><img alt=\"habitaciones\" data-lazy-src=\"https://facilhouse.com/wp-content/themes/houzez-child/img/icons/cama.svg\" height=\"20\" src=\"data:image/svg+xml,%3Csvg%20xmlns='http://www.w3.org/2000/svg'%20viewBox='0%200%2020%2020'%3E%3C/svg%3E\" width=\"20\"/><noscript><img alt=\"habitaciones\" height=\"20\" loading=\"lazy\" src=\"https://facilhouse.com/wp-content/themes/houzez-child/img/icons/cama.svg\" width=\"20\"/></noscript>: 1</span>]"
      ]
     },
     "execution_count": 69,
     "metadata": {},
     "output_type": "execute_result"
    }
   ],
   "source": [
    "habitaciones_1 = soup.select(\"span.h-beds\")\n",
    "habitaciones_1"
   ]
  },
  {
   "cell_type": "code",
   "execution_count": 70,
   "metadata": {},
   "outputs": [
    {
     "name": "stdout",
     "output_type": "stream",
     "text": [
      ": 4\n",
      ": 1\n",
      ": 3\n",
      ": 2\n",
      ": 1\n"
     ]
    }
   ],
   "source": [
    "for habitacion in habitaciones_1:\n",
    "    print(habitacion.text.strip())"
   ]
  },
  {
   "cell_type": "markdown",
   "metadata": {},
   "source": [
    "### Material"
   ]
  },
  {
   "cell_type": "code",
   "execution_count": 71,
   "metadata": {},
   "outputs": [
    {
     "data": {
      "text/plain": [
       "[<div class=\"materiales-flex\">\n",
       " <p><span>|  </span>\n",
       "                                                                 madera                            </p>\n",
       " </div>,\n",
       " <div class=\"materiales-flex\">\n",
       " <p><span>|  </span>\n",
       "                                                                 madera                            </p>\n",
       " </div>,\n",
       " <div class=\"materiales-flex\">\n",
       " <p><span>|  </span>\n",
       "                                                                 madera                            </p>\n",
       " </div>,\n",
       " <div class=\"materiales-flex\">\n",
       " <p><span>|  </span>\n",
       "                                                                 acero                            </p>\n",
       " </div>,\n",
       " <div class=\"materiales-flex\">\n",
       " <p><span>|  </span>\n",
       "                                                                 madera                            </p>\n",
       " </div>]"
      ]
     },
     "execution_count": 71,
     "metadata": {},
     "output_type": "execute_result"
    }
   ],
   "source": [
    "material = soup.select(\"div.materiales-flex\")\n",
    "material"
   ]
  },
  {
   "cell_type": "code",
   "execution_count": 72,
   "metadata": {},
   "outputs": [
    {
     "name": "stdout",
     "output_type": "stream",
     "text": [
      "|  \n",
      "                                                                madera\n",
      "|  \n",
      "                                                                madera\n",
      "|  \n",
      "                                                                madera\n",
      "|  \n",
      "                                                                acero\n",
      "|  \n",
      "                                                                madera\n"
     ]
    }
   ],
   "source": [
    "for i in material:\n",
    "    print(i.text.strip())"
   ]
  },
  {
   "cell_type": "markdown",
   "metadata": {},
   "source": [
    "### Modelo"
   ]
  },
  {
   "cell_type": "code",
   "execution_count": 73,
   "metadata": {},
   "outputs": [
    {
     "data": {
      "text/plain": [
       "[<div class=\"property-title-flex\">\n",
       " <a href=\"https://facilhouse.com/modelo-casa/lucia/\">Lucia</a>\n",
       " </div>,\n",
       " <div class=\"property-title-flex\">\n",
       " <a href=\"https://facilhouse.com/modelo-casa/oka-box/\">OKA Box</a>\n",
       " </div>,\n",
       " <div class=\"property-title-flex\">\n",
       " <a href=\"https://facilhouse.com/modelo-casa/france/\">France</a>\n",
       " </div>,\n",
       " <div class=\"property-title-flex\">\n",
       " <a href=\"https://facilhouse.com/modelo-casa/modelo-1p-t2-r01/\">Modelo 1P T2 R01</a>\n",
       " </div>,\n",
       " <div class=\"property-title-flex\">\n",
       " <a href=\"https://facilhouse.com/modelo-casa/leila-1/\">Leila 1</a>\n",
       " </div>]"
      ]
     },
     "execution_count": 73,
     "metadata": {},
     "output_type": "execute_result"
    }
   ],
   "source": [
    "modelo_1 = soup.select(\"div.property-title-flex\")\n",
    "modelo_1"
   ]
  },
  {
   "cell_type": "code",
   "execution_count": 74,
   "metadata": {},
   "outputs": [
    {
     "name": "stdout",
     "output_type": "stream",
     "text": [
      "Lucia\n",
      "OKA Box\n",
      "France\n",
      "Modelo 1P T2 R01\n",
      "Leila 1\n"
     ]
    }
   ],
   "source": [
    "for i in modelo_1:\n",
    "    print(i.text.strip())"
   ]
  },
  {
   "cell_type": "markdown",
   "metadata": {},
   "source": [
    "### Empresa"
   ]
  },
  {
   "cell_type": "code",
   "execution_count": 75,
   "metadata": {},
   "outputs": [
    {
     "data": {
      "text/plain": [
       "[<div class=\"empresa-flex prop-user-agent\" style=\"font-weight:bold\">\n",
       " <a href=\"https://facilhouse.com/empresa/lascasasmodulares/\">Las Casas Modulares</a> </div>,\n",
       " <div class=\"empresa-flex prop-user-agent\" style=\"font-weight:bold\">\n",
       " <a href=\"https://facilhouse.com/empresa/oka/\">OKA Room</a> </div>,\n",
       " <div class=\"empresa-flex prop-user-agent\" style=\"font-weight:bold\">\n",
       " <a href=\"https://facilhouse.com/empresa/steco/\">TUCASAECO SOSTENIBLE</a> </div>,\n",
       " <div class=\"empresa-flex prop-user-agent\" style=\"font-weight:bold\">\n",
       " <a href=\"https://facilhouse.com/empresa/modiko/\">Modiko</a> </div>,\n",
       " <div class=\"empresa-flex prop-user-agent\" style=\"font-weight:bold\">\n",
       " <a href=\"https://facilhouse.com/empresa/micasademadera/\">Mi Casa de Madera</a> </div>]"
      ]
     },
     "execution_count": 75,
     "metadata": {},
     "output_type": "execute_result"
    }
   ],
   "source": [
    "empresa = soup.select(\"div.empresa-flex.prop-user-agent\")\n",
    "empresa"
   ]
  },
  {
   "cell_type": "code",
   "execution_count": 76,
   "metadata": {},
   "outputs": [
    {
     "name": "stdout",
     "output_type": "stream",
     "text": [
      "Las Casas Modulares\n",
      "OKA Room\n",
      "TUCASAECO SOSTENIBLE\n",
      "Modiko\n",
      "Mi Casa de Madera\n"
     ]
    }
   ],
   "source": [
    "for i in empresa:\n",
    "    print(i.text.strip())"
   ]
  },
  {
   "cell_type": "markdown",
   "metadata": {},
   "source": [
    "## Obtención de datos de la página web [Housez](https://housez.es/)"
   ]
  },
  {
   "cell_type": "code",
   "execution_count": 60,
   "metadata": {},
   "outputs": [
    {
     "name": "stdout",
     "output_type": "stream",
     "text": [
      "Página descargada correctamente\n",
      "Página descargada correctamente\n",
      "Página descargada correctamente\n",
      "Página descargada correctamente\n",
      "Página descargada correctamente\n",
      "Página descargada correctamente\n"
     ]
    }
   ],
   "source": [
    "headers = {\n",
    "    'User-Agent': 'Mozilla/5.0 (Windows NT 10.0; Win64; x64) AppleWebKit/537.36 (KHTML, like Gecko) Chrome/58.0.3029.110 Safari/537.3'\n",
    "}\n",
    "\n",
    "for pagina in range (1, 7):\n",
    "    url = f\"https://housez.es/page/{pagina}/\"\n",
    "    response = requests.get(url, headers=headers)\n",
    "    \n",
    "    if response.status_code == 200:\n",
    "        #Nos aseguramos que todas las páginas se han descragado correctamente\n",
    "        print (\"Página descargada correctamente\")\n",
    "        \n",
    "        soup = BeautifulSoup(response.content, \"html.parser\")\n",
    "    else:\n",
    "        print (\"Error al descargar la página\")"
   ]
  },
  {
   "cell_type": "markdown",
   "metadata": {},
   "source": [
    "### Precio"
   ]
  },
  {
   "cell_type": "code",
   "execution_count": 86,
   "metadata": {},
   "outputs": [
    {
     "data": {
      "text/plain": [
       "[]"
      ]
     },
     "execution_count": 86,
     "metadata": {},
     "output_type": "execute_result"
    }
   ],
   "source": [
    "soup.select(\"span.price-prefix\")"
   ]
  },
  {
   "cell_type": "code",
   "execution_count": 82,
   "metadata": {},
   "outputs": [
    {
     "data": {
      "text/plain": [
       "[]"
      ]
     },
     "execution_count": 82,
     "metadata": {},
     "output_type": "execute_result"
    }
   ],
   "source": [
    "soup.select(\"span.hz-figure\")"
   ]
  },
  {
   "cell_type": "code",
   "execution_count": 83,
   "metadata": {},
   "outputs": [
    {
     "data": {
      "text/plain": [
       "[]"
      ]
     },
     "execution_count": 83,
     "metadata": {},
     "output_type": "execute_result"
    }
   ],
   "source": [
    "soup.select(\"div.d-flex align-items-center h-100\")"
   ]
  },
  {
   "cell_type": "code",
   "execution_count": 84,
   "metadata": {},
   "outputs": [
    {
     "data": {
      "text/plain": [
       "[<div class=\"titulo-precio\">\n",
       " <div class=\"property-title-flex\">\n",
       " <a href=\"https://facilhouse.com/modelo-casa/lucia/\">Lucia</a>\n",
       " </div>\n",
       " <div class=\"price-flex\" style=\"\">\n",
       " <span class=\"price-start\">Desde</span><span class=\"item-price\">251.340 €</span>\n",
       " </div>\n",
       " </div>,\n",
       " <div class=\"titulo-precio\">\n",
       " <div class=\"property-title-flex\">\n",
       " <a href=\"https://facilhouse.com/modelo-casa/oka-box/\">OKA Box</a>\n",
       " </div>\n",
       " <div class=\"price-flex\" style=\"\">\n",
       " <span class=\"price-start\">Desde</span><span class=\"item-price\">26.000 €</span>\n",
       " </div>\n",
       " </div>,\n",
       " <div class=\"titulo-precio\">\n",
       " <div class=\"property-title-flex\">\n",
       " <a href=\"https://facilhouse.com/modelo-casa/france/\">France</a>\n",
       " </div>\n",
       " <div class=\"price-flex\" style=\"\">\n",
       " <span class=\"item-price\">Consultar</span>\n",
       " </div>\n",
       " </div>,\n",
       " <div class=\"titulo-precio\">\n",
       " <div class=\"property-title-flex\">\n",
       " <a href=\"https://facilhouse.com/modelo-casa/modelo-1p-t2-r01/\">Modelo 1P T2 R01</a>\n",
       " </div>\n",
       " <div class=\"price-flex\" style=\"\">\n",
       " <span class=\"item-price\">Consultar</span>\n",
       " </div>\n",
       " </div>,\n",
       " <div class=\"titulo-precio\">\n",
       " <div class=\"property-title-flex\">\n",
       " <a href=\"https://facilhouse.com/modelo-casa/leila-1/\">Leila 1</a>\n",
       " </div>\n",
       " <div class=\"price-flex\" style=\"\">\n",
       " <span class=\"item-price\">23.030 €</span>\n",
       " </div>\n",
       " </div>]"
      ]
     },
     "execution_count": 84,
     "metadata": {},
     "output_type": "execute_result"
    }
   ],
   "source": [
    "soup.select(\"div.titulo-precio\")"
   ]
  }
 ],
 "metadata": {
  "kernelspec": {
   "display_name": "machine_learning",
   "language": "python",
   "name": "python3"
  },
  "language_info": {
   "codemirror_mode": {
    "name": "ipython",
    "version": 3
   },
   "file_extension": ".py",
   "mimetype": "text/x-python",
   "name": "python",
   "nbconvert_exporter": "python",
   "pygments_lexer": "ipython3",
   "version": "3.11.5"
  }
 },
 "nbformat": 4,
 "nbformat_minor": 2
}
