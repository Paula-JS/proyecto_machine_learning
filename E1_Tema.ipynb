{
 "cells": [
  {
   "cell_type": "markdown",
   "metadata": {},
   "source": [
    "# Primera entrega ML"
   ]
  },
  {
   "cell_type": "markdown",
   "metadata": {},
   "source": [
    "## Título de proyecto"
   ]
  },
  {
   "cell_type": "markdown",
   "metadata": {},
   "source": [
    "Modelo de Machine Learning para predecir el valor de casas prefabricadas. "
   ]
  },
  {
   "cell_type": "markdown",
   "metadata": {},
   "source": [
    "## Tema"
   ]
  },
  {
   "cell_type": "markdown",
   "metadata": {},
   "source": [
    "Después de llevar a cabo un análisis exploratorio de datos (EDA) sobre las zonas más rentables para establecer una empresa de viviendas prefabricadas, nuestro cliente ha decidido volver a confiar en nuestros servicios para desarrollar un modelo de Machine Learning que prediga el precio de las casas prefabricadas."
   ]
  },
  {
   "cell_type": "markdown",
   "metadata": {},
   "source": [
    "## Datasets y fuentes alternativas de datos\n",
    "Incluye aquí una breve descripción del dataset o datasets para tu proyecto. Incluye también las fuentes de cada uno de ellos."
   ]
  },
  {
   "cell_type": "markdown",
   "metadata": {},
   "source": [
    "### TIPO DE ML 🤖\n",
    "En este proyecto se utilizará **aprendizaje supervisado mediante un modelo de regresión.** El objetivo es predecir el valor de Y (el precio de las casas) a partir de un conjunto de datos de entrada X, lo cual implica realizar una predicción numérica.\n",
    "\n",
    "### TARGET DESCRIPTION 💲\n",
    "Como mencionamos anteriormente, la variable a predecir es el precio de las casas prefabricadas. Esta predicción se realizará teniendo en cuenta factores como los precios de la competencia, así como características adicionales de las viviendas, tales como metros cuadrados, número de habitaciones, baños, entre otros.\n",
    "\n",
    "### MÉTRICAS 📈\n",
    "Para evaluar la efectividad del modelo de predicción, utilizaremos la métrica **R²**. No obstante, también se considerarán otras métricas como MSE (Error Cuadrático Medio), RMSE (Raíz del Error Cuadrático Medio) y MAE (Error Absoluto Medio) para obtener una visión más completa del rendimiento del modelo.\n",
    "\n",
    "### FUENTES DE DATOS 🔎\n",
    "La obtención de los datos se llevará a cabo mediante la técnica de Web Scraping en sitios web especializados en viviendas prefabricadas, como:\n",
    "- [Facilhouse](https://facilhouse.com/)\n",
    "- [Housez](https://housez.es/)"
   ]
  }
 ],
 "metadata": {
  "interpreter": {
   "hash": "7c77fdb427e7cbc9bc1367dd530fc2b36aacdbbde1ac83c85833b10dfa8b831c"
  },
  "kernelspec": {
   "display_name": "Python 3.7.4 64-bit",
   "language": "python",
   "name": "python3"
  },
  "language_info": {
   "codemirror_mode": {
    "name": "ipython",
    "version": 3
   },
   "file_extension": ".py",
   "mimetype": "text/x-python",
   "name": "python",
   "nbconvert_exporter": "python",
   "pygments_lexer": "ipython3",
   "version": "3.11.10"
  },
  "orig_nbformat": 4
 },
 "nbformat": 4,
 "nbformat_minor": 2
}
